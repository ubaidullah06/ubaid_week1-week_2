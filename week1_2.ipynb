{
 "cells": [
  {
   "cell_type": "markdown",
   "id": "50466c03-6ca3-4e9e-8f34-3abb80df73b1",
   "metadata": {},
   "source": [
    "Week 1: Basic Assignment"
   ]
  },
  {
   "cell_type": "markdown",
   "id": "36483fa8-5496-4ab3-af35-fbc5a25b9e15",
   "metadata": {},
   "source": [
    "Assignment 1: Python Fundamentals"
   ]
  },
  {
   "cell_type": "markdown",
   "id": "32cca398-a98a-4b3a-87c8-461c9dcebf2f",
   "metadata": {},
   "source": [
    "Objective: Ensure a solid understanding of Python\n",
    "basics."
   ]
  },
  {
   "cell_type": "markdown",
   "id": "f97279ff-6a46-48f3-b6ae-2f2ae24c5117",
   "metadata": {},
   "source": [
    "1-Write a Python program to perform basic\r\n",
    "arithmetic operations (addition, subtraction,\r\n",
    "multiplication, division)."
   ]
  },
  {
   "cell_type": "markdown",
   "id": "4c830282-6195-40a8-a8a4-bc974e6ddcb2",
   "metadata": {},
   "source": [
    "i-Addition "
   ]
  },
  {
   "cell_type": "code",
   "execution_count": 5,
   "id": "e1ccd206-6e79-42c1-929b-1faa485dfe95",
   "metadata": {},
   "outputs": [
    {
     "name": "stdin",
     "output_type": "stream",
     "text": [
      "enter 1st number to add 8\n",
      "enter 2nd number to add 4\n"
     ]
    },
    {
     "name": "stdout",
     "output_type": "stream",
     "text": [
      "the sum is : 12\n"
     ]
    }
   ],
   "source": [
    "x = int(input(\"enter 1st number to add\"))\n",
    "y = int(input(\"enter 2nd number to add\"))\n",
    "z = x+y\n",
    "print(\"the sum is :\",z)\n"
   ]
  },
  {
   "cell_type": "markdown",
   "id": "996fc148-91dc-42cb-b1cf-fee353c6f396",
   "metadata": {},
   "source": [
    "ii-Subtraction "
   ]
  },
  {
   "cell_type": "code",
   "execution_count": 7,
   "id": "b5fbc5de-876e-42ab-86aa-6db71cac2bd6",
   "metadata": {},
   "outputs": [
    {
     "name": "stdin",
     "output_type": "stream",
     "text": [
      "enter the number from you want to subtract 8\n",
      "enter the number to subtract 4\n"
     ]
    },
    {
     "name": "stdout",
     "output_type": "stream",
     "text": [
      "the difference is : 4\n"
     ]
    }
   ],
   "source": [
    "x = int(input(\"enter the number from you want to subtract\"))\n",
    "y = int(input(\"enter the number to subtract\"))\n",
    "z = x - y\n",
    "print(\"the difference is :\",z)"
   ]
  },
  {
   "cell_type": "markdown",
   "id": "dfb6b2a1-4565-4ee5-b530-6023d054da46",
   "metadata": {},
   "source": [
    "iii-Multiplication "
   ]
  },
  {
   "cell_type": "code",
   "execution_count": 9,
   "id": "f974f39d-4916-4a2e-9411-9e24943aa5fa",
   "metadata": {},
   "outputs": [
    {
     "name": "stdin",
     "output_type": "stream",
     "text": [
      "enter the number to multiply 4\n",
      "enter the  2nd number  5\n"
     ]
    },
    {
     "name": "stdout",
     "output_type": "stream",
     "text": [
      "the product is : 20\n"
     ]
    }
   ],
   "source": [
    "x = int(input(\"enter the number to multiply\"))\n",
    "y = int(input(\"enter the  2nd number \"))\n",
    "z = x*y\n",
    "print(\"the product is :\",z)"
   ]
  },
  {
   "cell_type": "markdown",
   "id": "24c19357-9903-4f64-a68c-a9791db37244",
   "metadata": {},
   "source": [
    "iv-Divsion "
   ]
  },
  {
   "cell_type": "code",
   "execution_count": 11,
   "id": "84155d43-eea5-476d-ab1c-23260d0a40cf",
   "metadata": {},
   "outputs": [
    {
     "name": "stdin",
     "output_type": "stream",
     "text": [
      "enter the number to divide 8\n",
      "enter the  2nd number  2\n"
     ]
    },
    {
     "name": "stdout",
     "output_type": "stream",
     "text": [
      "the division is : 4.0\n"
     ]
    }
   ],
   "source": [
    "x = int(input(\"enter the number to divide\"))\n",
    "y = int(input(\"enter the  2nd number \"))\n",
    "z = x / y\n",
    "print(\"the division is :\",z)"
   ]
  },
  {
   "cell_type": "markdown",
   "id": "3fb4d145-426e-42bb-a8cd-dc5d8d19532f",
   "metadata": {},
   "source": [
    "2-Create a program that uses conditional\r\n",
    "statements to determine if a number is positive,\r\n",
    "negative, or ze.ro"
   ]
  },
  {
   "cell_type": "code",
   "execution_count": 13,
   "id": "8a5e09d8-31d3-4cce-817f-0f31612a49dd",
   "metadata": {},
   "outputs": [
    {
     "name": "stdin",
     "output_type": "stream",
     "text": [
      "Enter a number:  -7\n"
     ]
    },
    {
     "name": "stdout",
     "output_type": "stream",
     "text": [
      "the given number is negative : -7\n"
     ]
    }
   ],
   "source": [
    "entered_number = int(input(\"Enter a number: \"))\n",
    "if entered_number == 0 :\n",
    "    print(\"the numbber is equal to zero \",entered_number)\n",
    "if entered_number < 0 :\n",
    "    print(\"the given number is negative :\",entered_number)\n",
    "if entered_number > 0 :\n",
    "    print(\"the given number is positive :\",entered_number)\n",
    "    "
   ]
  },
  {
   "cell_type": "markdown",
   "id": "55cb3de3-7052-43c4-a8af-bcf17037592c",
   "metadata": {},
   "source": [
    "3-Write a script that accepts user input and\r\n",
    "displays it in reverse order.\r"
   ]
  },
  {
   "cell_type": "code",
   "execution_count": 33,
   "id": "cf41282a-2ffa-4547-8b3c-180c753d6ac0",
   "metadata": {},
   "outputs": [
    {
     "name": "stdin",
     "output_type": "stream",
     "text": [
      "Enter the nubmer or any statement:  ubaidullah\n"
     ]
    },
    {
     "name": "stdout",
     "output_type": "stream",
     "text": [
      "h\n",
      "a\n",
      "l\n",
      "l\n",
      "u\n",
      "d\n",
      "i\n",
      "a\n",
      "b\n",
      "u\n"
     ]
    }
   ],
   "source": [
    "usr_input = input(\"Enter the nubmer or any statement: \")\n",
    "characters = list(usr_input)\n",
    "characters.reverse()\n",
    "for i in characters:\n",
    "    print(i)"
   ]
  },
  {
   "cell_type": "markdown",
   "id": "5466f858-5fee-48ae-ad5c-72ed7132d54e",
   "metadata": {},
   "source": [
    "Week 2: Intermediate Assignment"
   ]
  },
  {
   "cell_type": "markdown",
   "id": "26a190ce-c217-45ca-8f22-51b69b347a9d",
   "metadata": {},
   "source": [
    "Assignment 2: Working with Lists, Tuples,\r\n",
    "and Dictionaries"
   ]
  },
  {
   "cell_type": "markdown",
   "id": "a8725ea0-1aa8-4eda-ae95-8b8f45119250",
   "metadata": {},
   "source": [
    "i-Create a program that manages a list of student\n",
    "names, allowing the user to add, remove, and\n",
    "display the list."
   ]
  },
  {
   "cell_type": "code",
   "execution_count": 159,
   "id": "dfa3a86f-45f7-47a7-a5b9-9ab23242120f",
   "metadata": {},
   "outputs": [],
   "source": [
    "def add_stdudent(students_list):\n",
    "       name = input(\"Enter the name you want to add:\")\n",
    "       new_list = name.split()\n",
    "       for i in new_list:\n",
    "           students_list.append(i) \n",
    "       print(\"The updated list is: \",students_list)\n",
    "def rem_student(students_list):\n",
    "    std_name = input(\"Enter a name of student you want to remove:  \")\n",
    "    if std_name in students_list:\n",
    "        students_list.remove(std_name)\n",
    "        print(\"The updated list is : \",students_list)"
   ]
  },
  {
   "cell_type": "code",
   "execution_count": 161,
   "id": "939c464e-c2a2-4403-acaf-eb22a1dc2fe7",
   "metadata": {},
   "outputs": [
    {
     "name": "stdin",
     "output_type": "stream",
     "text": [
      "Enter the names of students separated by space: ubaid uzair\n"
     ]
    },
    {
     "name": "stdout",
     "output_type": "stream",
     "text": [
      "['ubaid', 'uzair']\n"
     ]
    },
    {
     "name": "stdin",
     "output_type": "stream",
     "text": [
      "Are you want to add new students...?(yes/no): yes\n",
      "Enter the name you want to add: anas ashfa\n"
     ]
    },
    {
     "name": "stdout",
     "output_type": "stream",
     "text": [
      "The updated list is:  ['ubaid', 'uzair', 'anas', 'ashfa']\n"
     ]
    },
    {
     "name": "stdin",
     "output_type": "stream",
     "text": [
      "Are you want toremove the student....?(yes/no) yes\n",
      "Enter a name of student you want to remove:   ashfa\n"
     ]
    },
    {
     "name": "stdout",
     "output_type": "stream",
     "text": [
      "The updated list is :  ['ubaid', 'uzair', 'anas']\n"
     ]
    }
   ],
   "source": [
    "students = input(\"Enter the names of students separated by space:\")\n",
    "students_list = students.split()\n",
    "print(students_list) \n",
    "to_add = input(\"Are you want to add new students...?(yes/no):\").lower()\n",
    "if to_add == \"yes\":\n",
    "   add_stdudent(students_list)\n",
    "to_rem = input(\"Are you want toremove the student....?(yes/no)\").lower()\n",
    "if to_rem == \"yes\":\n",
    "   rem_student(students_list)\n",
    "else :\n",
    " 0\n",
    "\n",
    "\n",
    "\n"
   ]
  },
  {
   "cell_type": "markdown",
   "id": "1572eb02-42de-4f23-bf6a-a60d40c78e3b",
   "metadata": {},
   "source": [
    "\n",
    "ii_Write a script that counts the frequency of words\r\n",
    "in a given text and stores the result in a\r\n",
    "dictionary."
   ]
  },
  {
   "cell_type": "code",
   "execution_count": 191,
   "id": "f097b3c2-1759-4ffa-86c5-16f13f3333bb",
   "metadata": {},
   "outputs": [
    {
     "name": "stdin",
     "output_type": "stream",
     "text": [
      "Enetr a script:   ubaidullah atta \n"
     ]
    },
    {
     "name": "stdout",
     "output_type": "stream",
     "text": [
      "{'u': 2, 'b': 1, 'a': 2, 'i': 1, 'd': 1, 'l': 2, 'h': 1, ' ': 2, 't': 2}\n"
     ]
    }
   ],
   "source": [
    "frequency = {}\n",
    "usr_inpt = input(\"Enetr a script:  \").lower()\n",
    "usr_inpt.split()\n",
    "list_of_characters = list(usr_inpt)\n",
    "count = 1\n",
    "for i in list_of_characters:\n",
    "    if i in frequency:\n",
    "        count += 1\n",
    "    frequency.update({i:count})\n",
    "    count = 1\n",
    "print(frequency)"
   ]
  },
  {
   "cell_type": "markdown",
   "id": "0738fbd2-6fd1-414c-b66c-e2ddc7e32951",
   "metadata": {},
   "source": [
    "iii-Implement a program that takes a tuple of\r\n",
    "integers and returns a new tuple with even\r\n",
    "numbers only."
   ]
  },
  {
   "cell_type": "code",
   "execution_count": 209,
   "id": "b2f7a149-8b00-4041-a1b6-fe6ce4d60717",
   "metadata": {},
   "outputs": [
    {
     "ename": "SyntaxError",
     "evalue": "invalid syntax (2550192865.py, line 3)",
     "output_type": "error",
     "traceback": [
      "\u001b[1;36m  Cell \u001b[1;32mIn[209], line 3\u001b[1;36m\u001b[0m\n\u001b[1;33m    i for i in tuple_input:\u001b[0m\n\u001b[1;37m      ^\u001b[0m\n\u001b[1;31mSyntaxError\u001b[0m\u001b[1;31m:\u001b[0m invalid syntax\n"
     ]
    }
   ],
   "source": [
    "a = input(\"Enter a tupple of integers separated by comma : \")\n",
    "tuple_input = tuple(map(int,a.split(\",\")))\n",
    "even_tuple = tuple(i for i in tuple_input if i%2 == 0:\n",
    "     "
   ]
  },
  {
   "cell_type": "code",
   "execution_count": null,
   "id": "0e5862b5-9891-4138-8808-98039546ebba",
   "metadata": {},
   "outputs": [],
   "source": []
  }
 ],
 "metadata": {
  "kernelspec": {
   "display_name": "Python 3 (ipykernel)",
   "language": "python",
   "name": "python3"
  },
  "language_info": {
   "codemirror_mode": {
    "name": "ipython",
    "version": 3
   },
   "file_extension": ".py",
   "mimetype": "text/x-python",
   "name": "python",
   "nbconvert_exporter": "python",
   "pygments_lexer": "ipython3",
   "version": "3.12.4"
  }
 },
 "nbformat": 4,
 "nbformat_minor": 5
}
